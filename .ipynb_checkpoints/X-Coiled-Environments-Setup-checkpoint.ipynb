{
 "cells": [
  {
   "cell_type": "code",
   "execution_count": null,
   "id": "86e3b4be-a3ab-4193-b580-fc393c11267e",
   "metadata": {},
   "outputs": [],
   "source": [
    "import coiled\n",
    "\n",
    "coiled.Cloud()"
   ]
  },
  {
   "cell_type": "code",
   "execution_count": null,
   "id": "eb68daa3-79a3-42d2-bb78-650488871193",
   "metadata": {},
   "outputs": [],
   "source": [
    "software_name = \"adbreind/training-env\"\n",
    "\n",
    "coiled.create_software_environment(\n",
    "    name=software_name,\n",
    "    conda=\"environment.yml\",\n",
    ")"
   ]
  },
  {
   "cell_type": "code",
   "execution_count": null,
   "id": "02f0eb7c-32f1-464c-b637-fef71eb33868",
   "metadata": {},
   "outputs": [],
   "source": [
    "print('done')"
   ]
  },
  {
   "cell_type": "code",
   "execution_count": null,
   "id": "4f4c50b8-c47f-4006-bd48-4411044f8c71",
   "metadata": {},
   "outputs": [],
   "source": [
    "coiled.create_cluster_configuration(\n",
    "    name=\"adbreind/training-lab\",\n",
    "    scheduler_cpu=1,\n",
    "    scheduler_memory=\"2 GiB\",\n",
    "    worker_cpu=1,\n",
    "    worker_memory=\"2 GiB\",\n",
    "    software=\"adbreind/training-env\",\n",
    ")"
   ]
  },
  {
   "cell_type": "code",
   "execution_count": null,
   "id": "ec396135-dd2a-4409-bdb6-c3409aac301c",
   "metadata": {},
   "outputs": [],
   "source": []
  }
 ],
 "metadata": {
  "kernelspec": {
   "display_name": "Python 3",
   "language": "python",
   "name": "python3"
  },
  "language_info": {
   "codemirror_mode": {
    "name": "ipython",
    "version": 3
   },
   "file_extension": ".py",
   "mimetype": "text/x-python",
   "name": "python",
   "nbconvert_exporter": "python",
   "pygments_lexer": "ipython3",
   "version": "3.9.1"
  }
 },
 "nbformat": 4,
 "nbformat_minor": 5
}
