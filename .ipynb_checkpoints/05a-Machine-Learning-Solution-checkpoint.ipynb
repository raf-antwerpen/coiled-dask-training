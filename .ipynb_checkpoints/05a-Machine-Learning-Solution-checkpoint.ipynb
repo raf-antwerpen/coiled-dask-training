{
 "cells": [
  {
   "cell_type": "markdown",
   "metadata": {},
   "source": [
    "# Machine Learning Lab Solution"
   ]
  },
  {
   "cell_type": "code",
   "execution_count": null,
   "metadata": {},
   "outputs": [],
   "source": [
    "import coiled\n",
    "from dask.distributed import Client\n",
    "\n",
    "cluster = coiled.Cluster(name=\"training-cluster\")\n",
    "client = Client(cluster)\n",
    "client"
   ]
  },
  {
   "cell_type": "markdown",
   "metadata": {},
   "source": [
    "## Lab: Dask + XGBoost\n",
    "\n",
    "### Activity 1: Train the cat-dog data with XGBoost\n",
    "\n",
    "As of 2020, XGBoost has a new, official API for working with Dask (although the older `dask-xgboost` package still works).\n",
    "\n",
    "The new API is documented at https://xgboost.readthedocs.io/en/latest/tutorials/dask.html\n",
    "\n",
    "First, we'll just train a model. Most of the configuration information in this API is passed via a parameters object, described here: https://xgboost.readthedocs.io/en/latest/parameter.html\n",
    "\n",
    "To get started, keep it as simple as possible"
   ]
  },
  {
   "cell_type": "code",
   "execution_count": null,
   "metadata": {},
   "outputs": [],
   "source": [
    "import dask.dataframe as ddf\n",
    "import pandas as pd\n",
    "\n",
    "pets = ddf.read_csv('s3://coiled-training/data/pets.csv', parse_dates=[\"License Issue Date\"], \n",
    "                    dtype={'License Number': 'object',\n",
    "                           'ZIP Code': 'object'},\n",
    "                    blocksize=1e6, storage_options={\"anon\": True})\n",
    "\n",
    "pets = pets.drop(columns=['Secondary Breed', 'License Number' ]).dropna()\n",
    "\n",
    "pets = pets.rename(columns={'License Issue Date':'license_date','Animal\\'s Name':'name',\n",
    "                            'Species':'species', 'Primary Breed':'breed', 'ZIP Code':'zip'})\n",
    "\n",
    "pets['day'] = pets['license_date'].apply(pd.Timestamp.toordinal)"
   ]
  },
  {
   "cell_type": "code",
   "execution_count": null,
   "metadata": {},
   "outputs": [],
   "source": [
    "cats_and_dogs = pets[(pets['species'] == 'Dog') | (pets['species'] == 'Cat')]\n",
    "cats_and_dogs = cats_and_dogs[['day', 'zip' , 'species']]"
   ]
  },
  {
   "cell_type": "code",
   "execution_count": null,
   "metadata": {},
   "outputs": [],
   "source": [
    "from dask_ml.preprocessing import LabelEncoder\n",
    "\n",
    "cats_and_dogs = cats_and_dogs.categorize()\n",
    "cats_and_dogs['zip'] = LabelEncoder().fit_transform(cats_and_dogs['zip'])\n",
    "cats_and_dogs['species'] = LabelEncoder().fit_transform(cats_and_dogs['species'])"
   ]
  },
  {
   "cell_type": "code",
   "execution_count": null,
   "metadata": {},
   "outputs": [],
   "source": [
    "from dask_ml.model_selection import train_test_split\n",
    "\n",
    "X_train, X_test, y_train, y_test = train_test_split(cats_and_dogs[['day', 'zip']], \n",
    "                                                    cats_and_dogs.species, test_size=0.1)\n",
    "\n",
    "X_train"
   ]
  },
  {
   "cell_type": "code",
   "execution_count": null,
   "metadata": {},
   "outputs": [],
   "source": [
    "import xgboost as xgb\n",
    "\n",
    "dtrain = xgb.dask.DaskDMatrix(client, X_train, y_train)\n",
    "\n",
    "param = {'objective':'binary:logistic', 'verbosity': 2 }\n",
    "\n",
    "model = xgb.dask.train(client, param, dtrain,\n",
    "                        num_boost_round=4, evals=[(dtrain, 'train')])"
   ]
  },
  {
   "cell_type": "code",
   "execution_count": null,
   "metadata": {},
   "outputs": [],
   "source": [
    "model"
   ]
  },
  {
   "cell_type": "markdown",
   "metadata": {},
   "source": [
    "### Activity 2: Predict on the test set\n",
    "\n",
    "We'll need to make a DMatrix again to feed the test set to XGBoost. \n",
    "\n",
    "XGB also has a Dask-specific API for distributed prediction.\n",
    "\n",
    "See if you can generate a vector of predictions and inspect those."
   ]
  },
  {
   "cell_type": "code",
   "execution_count": null,
   "metadata": {},
   "outputs": [],
   "source": [
    "dtest = xgb.dask.DaskDMatrix(client, X_test)\n",
    "\n",
    "predictions = xgb.dask.predict(client, model, dtest)\n",
    "\n",
    "predictions"
   ]
  },
  {
   "cell_type": "code",
   "execution_count": null,
   "metadata": {},
   "outputs": [],
   "source": [
    "predictions[:5].compute()"
   ]
  },
  {
   "cell_type": "markdown",
   "metadata": {},
   "source": [
    "### Activity 3: Accuracy\n",
    "\n",
    "Using a distributed mechanism, convert the prediction probabilities into an accuracy score for the test set."
   ]
  },
  {
   "cell_type": "code",
   "execution_count": null,
   "metadata": {},
   "outputs": [],
   "source": [
    "from dask_ml.metrics import accuracy_score\n",
    "\n",
    "accuracy_score(y_test, predictions > 0.5)"
   ]
  },
  {
   "cell_type": "code",
   "execution_count": null,
   "metadata": {},
   "outputs": [],
   "source": []
  }
 ],
 "metadata": {
  "kernelspec": {
   "display_name": "Python 3 (ipykernel)",
   "language": "python",
   "name": "python3"
  },
  "language_info": {
   "codemirror_mode": {
    "name": "ipython",
    "version": 3
   },
   "file_extension": ".py",
   "mimetype": "text/x-python",
   "name": "python",
   "nbconvert_exporter": "python",
   "pygments_lexer": "ipython3",
   "version": "3.9.6"
  }
 },
 "nbformat": 4,
 "nbformat_minor": 4
}
