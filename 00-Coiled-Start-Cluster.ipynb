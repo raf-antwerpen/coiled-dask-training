{
 "cells": [
  {
   "cell_type": "markdown",
   "id": "607ed623-d8ba-448a-8849-48c6a5d50b96",
   "metadata": {},
   "source": [
    "# Start up a cluster in the cloud with Coiled\n",
    "\n",
    "Before we get started learning Dask, we'll each spin up a cluster in the cloud using Coiled\n",
    "\n",
    "The first time you connect to Coiled, you'll need your authentication token. Here's how to find it:\n",
    "\n",
    "__Step 0__\n",
    "\n",
    "Coiled uses Google or Github OAuth for authentication. If you don't already have a Google or Github account, create one.\n",
    "\n",
    "__Step 1__\n",
    "\n",
    "Log into Coiled. Even if you have never used Coiled before, you can get an account and log in with your Google or Github account. Just go to https://cloud.coiled.io\n",
    "\n",
    "__Step 2__\n",
    "\n",
    "Find and copy authentication token. See the following screenshots:\n",
    "\n",
    "<img src='images/step1.png' width=500/>\n",
    "\n",
    "Clicking \"eye\" icon will reveal the token. Copy it by manually selecting __just the token__ with your mouse, and then choosing your platform's copy shortcut or menu item.\n",
    "\n",
    "<img src='images/step2.png' width=500/>\n",
    "\n",
    "When you run the following cell the first time, you will be prompted for you token. Paste it in and choose 'Y' to save the token on your server for future use."
   ]
  },
  {
   "cell_type": "code",
   "execution_count": null,
   "id": "86e3b4be-a3ab-4193-b580-fc393c11267e",
   "metadata": {},
   "outputs": [],
   "source": [
    "import coiled\n",
    "\n",
    "coiled.Cloud()"
   ]
  },
  {
   "cell_type": "markdown",
   "id": "fe78d60b-1095-4c48-86ff-e90fa08fcbe7",
   "metadata": {},
   "source": [
    "Now we'll start up the cluster for today, by running the following code. This cluster is pre-configured with the proper code and libraries for class (that's the `configuration=` part). You'll see a cluster starting on your Coiled account dashboard."
   ]
  },
  {
   "cell_type": "code",
   "execution_count": null,
   "id": "fca3f64c-a207-47fc-a330-f9c61f06c330",
   "metadata": {},
   "outputs": [],
   "source": [
    "cluster = coiled.Cluster(\n",
    "    configuration=\"adbreind/training-lab\",\n",
    "    name=\"training-cluster\",\n",
    "    n_workers=2,\n",
    "    scheduler_options={\"idle_timeout\": \"2 hours\"},\n",
    "    backend_options={\"spot\":False}\n",
    ")\n",
    "\n",
    "cluster"
   ]
  },
  {
   "cell_type": "code",
   "execution_count": null,
   "id": "94f28adc-2a94-4a9c-b0e8-0a39e06a859a",
   "metadata": {},
   "outputs": [],
   "source": [
    "coiled.list_clusters()"
   ]
  },
  {
   "cell_type": "code",
   "execution_count": null,
   "id": "35014cb6-c62a-42d1-b8f2-7bef153ce10b",
   "metadata": {},
   "outputs": [],
   "source": [
    "# coiled.delete_cluster(name='training-cluster')"
   ]
  },
  {
   "cell_type": "code",
   "execution_count": null,
   "id": "305cdad8-282a-4453-9458-7f68a1750589",
   "metadata": {},
   "outputs": [],
   "source": []
  }
 ],
 "metadata": {
  "kernelspec": {
   "display_name": "Python 3 (ipykernel)",
   "language": "python",
   "name": "python3"
  },
  "language_info": {
   "codemirror_mode": {
    "name": "ipython",
    "version": 3
   },
   "file_extension": ".py",
   "mimetype": "text/x-python",
   "name": "python",
   "nbconvert_exporter": "python",
   "pygments_lexer": "ipython3",
   "version": "3.9.6"
  }
 },
 "nbformat": 4,
 "nbformat_minor": 5
}
